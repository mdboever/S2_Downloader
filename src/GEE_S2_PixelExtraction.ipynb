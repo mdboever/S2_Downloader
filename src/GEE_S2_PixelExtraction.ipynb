{
 "cells": [
  {
   "cell_type": "markdown",
   "metadata": {},
   "source": [
    "## loading libraries "
   ]
  },
  {
   "cell_type": "code",
   "execution_count": 1,
   "metadata": {},
   "outputs": [],
   "source": [
    "import geemap\n",
    "import ee\n",
    "import os"
   ]
  },
  {
   "cell_type": "markdown",
   "metadata": {},
   "source": [
    "## Authentication "
   ]
  },
  {
   "cell_type": "code",
   "execution_count": 2,
   "metadata": {},
   "outputs": [
    {
     "name": "stdout",
     "output_type": "stream",
     "text": [
      "Einmal anmelden. Alle Google-Produkte nutzen\n",
      "\n",
      "Mit Ihrem Google-Konto anmelden\n",
      "\n",
      "[avatar_2x]\n",
      "E-Mail-Adresse eingeben [                    ] [                    ]\n",
      "[Weiter] Mein Konto finden\n",
      "Mit einem anderen Konto anmelden Konto erstellen\n",
      "\n",
      "Ein Google-Konto für alle Google-Dienste\n",
      "\n",
      "  • Über Google\n",
      "  • Datenschutz\n",
      "  • Nutzungsbedingungen\n",
      "  • Hilfe\n",
      "\n",
      "Sprache ändern [‪Deutsch‬                 ]\n",
      "Running command using Cloud API.  Set --no-use_cloud_api to go back to using the API\n",
      "\n",
      "Paste the following address into a web browser:\n",
      "\n",
      "    https://accounts.google.com/o/oauth2/auth?client_id=517222506229-vsmmajv00ul0bs7p89v5m89qs8eb9359.apps.googleusercontent.com&scope=https%3A%2F%2Fwww.googleapis.com%2Fauth%2Fearthengine+https%3A%2F%2Fwww.googleapis.com%2Fauth%2Fdevstorage.full_control&redirect_uri=urn%3Aietf%3Awg%3Aoauth%3A2.0%3Aoob&response_type=code&code_challenge=PNukVAn_4HIclQoMLkcuAiaH09w1xlK_qU-_T2xfrB0&code_challenge_method=S256\n",
      "\n",
      "On the web page, please authorize access to your Earth Engine account and copy the authentication code. Next authenticate with the following command:\n",
      "\n",
      "    earthengine authenticate --code-verifier=L-Gm53jBAjjMIvnvkcUsPLKBFVnXzwJlpkF57rPQJAE --authorization-code=PLACE_AUTH_CODE_HERE\n",
      "\n"
     ]
    }
   ],
   "source": [
    "%%bash\n",
    "earthengine authenticate --quiet"
   ]
  },
  {
   "cell_type": "code",
   "execution_count": 3,
   "metadata": {},
   "outputs": [
    {
     "name": "stdout",
     "output_type": "stream",
     "text": [
      "Running command using Cloud API.  Set --no-use_cloud_api to go back to using the API\n",
      "\n",
      "\n",
      "Successfully saved authorization token.\n"
     ]
    }
   ],
   "source": [
    "%%bash\n",
    "earthengine authenticate --code-verifier=L-Gm53jBAjjMIvnvkcUsPLKBFVnXzwJlpkF57rPQJAE --authorization-code=4/3AHJhhDLsdZmtAcpi31nfGNfB-j-HndzV26FNKM_VPLZ4BnrFVeDreE"
   ]
  },
  {
   "cell_type": "markdown",
   "metadata": {},
   "source": [
    "## Loading the MAP"
   ]
  },
  {
   "cell_type": "code",
   "execution_count": 4,
   "metadata": {},
   "outputs": [
    {
     "data": {
      "application/vnd.jupyter.widget-view+json": {
       "model_id": "851867729c0749fc8ee0cfd25811929b",
       "version_major": 2,
       "version_minor": 0
      },
      "text/plain": [
       "Map(center=[53.868278, 13.268556], controls=(WidgetControl(options=['position'], widget=HBox(children=(ToggleB…"
      ]
     },
     "metadata": {},
     "output_type": "display_data"
    }
   ],
   "source": [
    "Map = geemap.Map(center=[53.868278, 13.268556], zoom=10)\n",
    "Map"
   ]
  },
  {
   "cell_type": "markdown",
   "metadata": {},
   "source": [
    "## Finding the Sentinel-2 image with lowest cloud "
   ]
  },
  {
   "cell_type": "code",
   "execution_count": 22,
   "metadata": {},
   "outputs": [],
   "source": [
    "# Add Earth Engine dataset\n",
    "dataset_S2= ee.ImageCollection('COPERNICUS/S2_SR')\n",
    "\n",
    "\n",
    "point = ee.Geometry.Point(13.268556, 53.868278)\n",
    "start = ee.Date('2020-06-01')\n",
    "finish = ee.Date('2020-06-15')\n",
    "\n",
    "filteredCollection = ee.ImageCollection('COPERNICUS/S2_SR') \\\n",
    "    .filterBounds(point) \\\n",
    "    .filterDate(start, finish) \\\n",
    "    .sort('CLOUD_COVER', True)\n",
    "\n",
    "first = filteredCollection.first()\n",
    "# Define visualization parameters in an object literal.\n",
    "#vizParams = {'bands': ['B4', 'B3', 'B2'], 'min': 5000, 'max': 15000, 'gamma': 1.3}\n",
    "vizParams = {\"bands\": ['B8', 'B4', 'B3'], \"max\": 4000}\n",
    "Map.addLayer(first, vizParams, 'Sentinel-2')\n",
    "\n"
   ]
  },
  {
   "cell_type": "markdown",
   "metadata": {},
   "source": [
    "## Showing the image information "
   ]
  },
  {
   "cell_type": "code",
   "execution_count": 19,
   "metadata": {},
   "outputs": [
    {
     "name": "stdout",
     "output_type": "stream",
     "text": [
      "fileName : 20200602T100559_20200602T101204_T32UQE\n",
      "band names:  ['B1', 'B2', 'B3', 'B4', 'B5', 'B6', 'B7', 'B8', 'B8A', 'B9', 'B11', 'B12', 'AOT', 'WVP', 'SCL', 'TCI_R', 'TCI_G', 'TCI_B', 'MSK_CLDPRB', 'MSK_SNWPRB', 'QA10', 'QA20', 'QA60']\n",
      "Metadata properties: ['DATATAKE_IDENTIFIER', 'AOT_RETRIEVAL_ACCURACY', 'SPACECRAFT_NAME', 'SATURATED_DEFECTIVE_PIXEL_PERCENTAGE', 'system:id', 'MEAN_INCIDENCE_AZIMUTH_ANGLE_B8A', 'CLOUD_SHADOW_PERCENTAGE', 'MEAN_SOLAR_AZIMUTH_ANGLE', 'system:footprint', 'VEGETATION_PERCENTAGE', 'SOLAR_IRRADIANCE_B12', 'system:version', 'SOLAR_IRRADIANCE_B10', 'SENSOR_QUALITY', 'SOLAR_IRRADIANCE_B11', 'GENERATION_TIME', 'SOLAR_IRRADIANCE_B8A', 'FORMAT_CORRECTNESS', 'CLOUD_COVERAGE_ASSESSMENT', 'THIN_CIRRUS_PERCENTAGE', 'system:time_end', 'WATER_VAPOUR_RETRIEVAL_ACCURACY', 'system:time_start', 'DATASTRIP_ID', 'PROCESSING_BASELINE', 'SENSING_ORBIT_NUMBER', 'NODATA_PIXEL_PERCENTAGE', 'SENSING_ORBIT_DIRECTION', 'GENERAL_QUALITY', 'GRANULE_ID', 'REFLECTANCE_CONVERSION_CORRECTION', 'MEDIUM_PROBA_CLOUDS_PERCENTAGE', 'MEAN_INCIDENCE_AZIMUTH_ANGLE_B8', 'DATATAKE_TYPE', 'MEAN_INCIDENCE_AZIMUTH_ANGLE_B9', 'MEAN_INCIDENCE_AZIMUTH_ANGLE_B6', 'MEAN_INCIDENCE_AZIMUTH_ANGLE_B7', 'MEAN_INCIDENCE_AZIMUTH_ANGLE_B4', 'MEAN_INCIDENCE_ZENITH_ANGLE_B1', 'NOT_VEGETATED_PERCENTAGE', 'MEAN_INCIDENCE_AZIMUTH_ANGLE_B5', 'RADIOMETRIC_QUALITY', 'MEAN_INCIDENCE_AZIMUTH_ANGLE_B2', 'MEAN_INCIDENCE_AZIMUTH_ANGLE_B3', 'MEAN_INCIDENCE_ZENITH_ANGLE_B5', 'MEAN_INCIDENCE_AZIMUTH_ANGLE_B1', 'MEAN_INCIDENCE_ZENITH_ANGLE_B4', 'MEAN_INCIDENCE_ZENITH_ANGLE_B3', 'MEAN_INCIDENCE_ZENITH_ANGLE_B2', 'MEAN_INCIDENCE_ZENITH_ANGLE_B9', 'MEAN_INCIDENCE_ZENITH_ANGLE_B8', 'MEAN_INCIDENCE_ZENITH_ANGLE_B7', 'DARK_FEATURES_PERCENTAGE', 'HIGH_PROBA_CLOUDS_PERCENTAGE', 'MEAN_INCIDENCE_ZENITH_ANGLE_B6', 'UNCLASSIFIED_PERCENTAGE', 'MEAN_SOLAR_ZENITH_ANGLE', 'MEAN_INCIDENCE_ZENITH_ANGLE_B8A', 'RADIATIVE_TRANSFER_ACCURACY', 'MGRS_TILE', 'CLOUDY_PIXEL_PERCENTAGE', 'PRODUCT_ID', 'MEAN_INCIDENCE_ZENITH_ANGLE_B10', 'SOLAR_IRRADIANCE_B9', 'SNOW_ICE_PERCENTAGE', 'DEGRADED_MSI_DATA_PERCENTAGE', 'MEAN_INCIDENCE_ZENITH_ANGLE_B11', 'MEAN_INCIDENCE_ZENITH_ANGLE_B12', 'SOLAR_IRRADIANCE_B6', 'MEAN_INCIDENCE_AZIMUTH_ANGLE_B10', 'SOLAR_IRRADIANCE_B5', 'MEAN_INCIDENCE_AZIMUTH_ANGLE_B11', 'SOLAR_IRRADIANCE_B8', 'MEAN_INCIDENCE_AZIMUTH_ANGLE_B12', 'SOLAR_IRRADIANCE_B7', 'SOLAR_IRRADIANCE_B2', 'SOLAR_IRRADIANCE_B1', 'SOLAR_IRRADIANCE_B4', 'GEOMETRIC_QUALITY', 'SOLAR_IRRADIANCE_B3', 'system:asset_size', 'WATER_PERCENTAGE', 'system:index', 'system:bands', 'system:band_names']\n",
      "Time Stamp : {'type': 'Date', 'value': 1591092960647}\n"
     ]
    }
   ],
   "source": [
    "# get the image information \n",
    "\n",
    "ID = first.id()\n",
    "print(\"fileName :\", ID.getInfo())\n",
    "bandNames = first.bandNames()\n",
    "print(\"band names: \", bandNames.getInfo())\n",
    "properties = first.propertyNames()\n",
    "print(\"Metadata properties:\", properties.getInfo())\n",
    "date = ee.Date(first.get(\"system:time_start\"))\n",
    "print(\"Time Stamp :\", date.getInfo())\n",
    "#print(first.getInfo())"
   ]
  },
  {
   "cell_type": "markdown",
   "metadata": {},
   "source": [
    "## Creating the geometry point "
   ]
  },
  {
   "cell_type": "code",
   "execution_count": 16,
   "metadata": {},
   "outputs": [],
   "source": [
    "points = ee.Geometry.Point([13.268556, 53.868278])  # create an ee.Geometry \n",
    "\n",
    "Map.addLayer(points, {}, 'feature')\n"
   ]
  },
  {
   "cell_type": "markdown",
   "metadata": {},
   "source": [
    "## Extracting Pixel values  \n",
    "\n",
    "* Tip: Pixel values for sentinel-2 should be divided to 10000 \n",
    "* for future reference, refere to https://developers.google.com/earth-engine/datasets/catalog/COPERNICUS_S2_SR#bands and check the scale  \n"
   ]
  },
  {
   "cell_type": "code",
   "execution_count": 17,
   "metadata": {
    "pycharm": {
     "name": "#%%\n"
    }
   },
   "outputs": [
    {
     "name": "stdout",
     "output_type": "stream",
     "text": [
      "{'type': 'Feature', 'geometry': None, 'id': '0_0', 'properties': {'B1': 374, 'B11': 1553, 'B12': 829, 'B2': 414, 'B3': 694, 'B4': 445, 'B5': 1203, 'B6': 3669, 'B7': 4243, 'B8': 4452, 'B8A': 4706, 'B9': 5206}}\n"
     ]
    }
   ],
   "source": [
    "# use these bands for extraction \n",
    "\n",
    "bands = ['B1', 'B2', 'B3', 'B4', 'B5', 'B6', 'B7', 'B8', 'B8A', 'B9', 'B11', 'B12']\n",
    "\n",
    "# load coordinate of  points\n",
    "lable = 'STEROPES'\n",
    "# Overlay the points on the imagery to get training.\n",
    "pValues = first.select(bands).sampleRegions(**{\n",
    "    'collection': points,\n",
    "    'properties': [lable],\n",
    "    'scale': 10\n",
    "})\n",
    "\n",
    "Map.centerObject(points, 10)\n",
    "Map.addLayer(points, {'color': \"yellow\"}, 'Extracted points')\n",
    "\n",
    "pV = pValues.first()\n",
    "print(pV.getInfo())   \n"
   ]
  }
 ],
 "metadata": {
  "kernelspec": {
   "display_name": "Python 3",
   "language": "python",
   "name": "python3"
  },
  "language_info": {
   "codemirror_mode": {
    "name": "ipython",
    "version": 3
   },
   "file_extension": ".py",
   "mimetype": "text/x-python",
   "name": "python",
   "nbconvert_exporter": "python",
   "pygments_lexer": "ipython3",
   "version": "3.8.3"
  }
 },
 "nbformat": 4,
 "nbformat_minor": 4
}